{
 "cells": [
  {
   "cell_type": "markdown",
   "metadata": {},
   "source": [
    "# Implement a Python program to generate all sentences where subject is in [\"Americans\", \"Indians\"] and verb is in [\"Play\", \"watch\"] and the object is in [\"Baseball\",\"cricket\"].\n",
    "# Hint: Subject,Verb and Object should be declared in the program as shown below.\n",
    "# subjects=[\"Americans \",\"Indians\"] verbs=[\"play\",\"watch\"] objects=[\"Baseball\",\"Cricket\"]\n"
   ]
  },
  {
   "cell_type": "code",
   "execution_count": 1,
   "metadata": {},
   "outputs": [
    {
     "name": "stdout",
     "output_type": "stream",
     "text": [
      "Americans play Baseball.\n",
      "Americans play Cricket.\n",
      "Americans watch Baseball.\n",
      "Americans watch Cricket.\n",
      "Indians play Baseball.\n",
      "Indians play Cricket.\n",
      "Indians watch Baseball.\n",
      "Indians watch Cricket.\n"
     ]
    }
   ],
   "source": [
    "class printme:\n",
    "\n",
    "    def __init__(self,arg1,arg2,arg3):\n",
    "        self.arg1=arg1\n",
    "        self.arg2=arg2\n",
    "        self.arg3=arg3\n",
    "    def __str__(self):\n",
    "        return \"%s %s %s.\" \\\n",
    "                % (subject(self.arg1),verb(self.arg2), object1(self.arg3))\n",
    "def subject(arg):\n",
    "    subjects=[\"Americans\",\"Indians\"]\n",
    "    if arg == 0:\n",
    "        return subjects[0]\n",
    "    else:\n",
    "        return subjects[1]\n",
    "def verb(arg):\n",
    "    verbs=[\"play\",\"watch\"]\n",
    "    if arg == 0:\n",
    "        return verbs[0]\n",
    "    else:\n",
    "        return verbs[1]\n",
    "def object1(arg):\n",
    "    objects=[\"Baseball\",\"Cricket\"]\n",
    "    if  arg == 0:      \n",
    "        return objects[0]\n",
    "    else:\n",
    "        return objects[1]\n",
    "def call():\n",
    "    for i in range(2):\n",
    "        for j in range(2):\n",
    "            for k in range(2):\n",
    "                p=printme(i,j,k)\n",
    "                print(p)\n",
    "call()\n",
    "\n"
   ]
  },
  {
   "cell_type": "code",
   "execution_count": 2,
   "metadata": {},
   "outputs": [
    {
     "name": "stdout",
     "output_type": "stream",
     "text": [
      "Americans play Baseball\n",
      "Americans play Cricket\n",
      "Americans watch Baseball\n",
      "Americans watch Cricket\n",
      "Indians play Baseball\n",
      "Indians play Cricket\n",
      "Indians watch Baseball\n",
      "Indians watch Cricket\n"
     ]
    }
   ],
   "source": [
    "subjects=[\"Americans\",\"Indians\"]\n",
    "verbs=[\"play\",\"watch\"]\n",
    "objects=[\"Baseball\",\"Cricket\"]\n",
    "def call():\n",
    "    for i in range(2):\n",
    "        for j in range(2):\n",
    "            for k in range(2):\n",
    "                print(subjects[i],verbs[j],objects[k])\n",
    "call()"
   ]
  },
  {
   "cell_type": "markdown",
   "metadata": {},
   "source": [
    "# Write a function so that the columns of the output matrix are powers of the input vector.\n",
    "# The order of the powers is determined by the increasing boolean argument. Specifically, when increasing is False, the i-th output column is the input vector raised element-wise to the power of N - i - 1.\n",
    "# HINT: Such a matrix with a geometric progression in each row is named for Alexandre- Theophile Vandermonde.\n"
   ]
  },
  {
   "cell_type": "code",
   "execution_count": 3,
   "metadata": {},
   "outputs": [
    {
     "name": "stdout",
     "output_type": "stream",
     "text": [
      "order of the matrix 5\n",
      "how many column to print of Vandermonde matrix 5\n",
      "give me more elements 2\n",
      "give me more elements 3\n",
      "give me more elements 4\n",
      "give me more elements 5\n",
      "give me more elements 6\n",
      "Input Vector 2 3 4 5 6  \n",
      " Output matrix \n",
      " \n",
      " 16 8 4 2 1 \n",
      "81 27 9 3 1 \n",
      "256 64 16 4 1 \n",
      "625 125 25 5 1 \n",
      "1296 216 36 6 1 \n",
      "\n"
     ]
    }
   ],
   "source": [
    "class matrix:\n",
    "    def __init__(self, arg, n):\n",
    "        self.arg=arg\n",
    "        self.n=n\n",
    "    def __str__(self):\n",
    "        l=[]\n",
    "        lis=list1(self.arg,l)\n",
    "        return \"Input Vector %s \\n Output matrix \\n \\n %s\" %(lis[1],Vandermonde(self.n,lis[0]))\n",
    "    \n",
    "def list1(n,l):\n",
    "    m=[]\n",
    "    inputv=\"\"\n",
    "    for i in range(n):\n",
    "        m.append(int(input(\"give me more elements \")))\n",
    "        inputv=inputv+str(m[i])+\" \"\n",
    "    l=[m,inputv]    \n",
    "    return l\n",
    "def Vandermonde(N,m):\n",
    "    b=\"\"\n",
    "    for i in range(len(m)):\n",
    "        lis=[]\n",
    "        a=\"\"\n",
    "        for j in range(N):\n",
    "            lis.append(m[i]**(N-j-1))\n",
    "            a=a+str(lis[j])+\" \"\n",
    "        b=b+a+\"\\n\"\n",
    "    return b    \n",
    "p=matrix(int(input(\"order of the matrix \")),int(input(\"how many column to print of Vandermonde matrix \")))\n",
    "print(p)"
   ]
  },
  {
   "cell_type": "code",
   "execution_count": 4,
   "metadata": {},
   "outputs": [
    {
     "name": "stdout",
     "output_type": "stream",
     "text": [
      "order of the matrix 5\n",
      "give me more elements 5\n",
      "give me more elements x1\n",
      "give me more elements x2\n",
      "give me more elements x3\n",
      "give me more elements x4\n",
      "5 x1 x2 x3 x4 \n",
      "how many column to print of Vandermonde matrix5\n",
      "5^4 5^3 5^2 5^1 5^0 \n",
      "x1^4 x1^3 x1^2 x1^1 x1^0 \n",
      "x2^4 x2^3 x2^2 x2^1 x2^0 \n",
      "x3^4 x3^3 x3^2 x3^1 x3^0 \n",
      "x4^4 x4^3 x4^2 x4^1 x4^0 \n"
     ]
    }
   ],
   "source": [
    "n=int(input(\"order of the matrix \"))\n",
    "m=[]\n",
    "inputv=\"\"\n",
    "for i in range(n):\n",
    "    m.append(input(\"give me more elements \"))\n",
    "    inputv=inputv+str(m[i])+\" \"\n",
    "print(inputv)\n",
    "N=int(input(\"how many column to print of Vandermonde matrix\"))\n",
    "for i in range(len(m)):\n",
    "    a=\"\"\n",
    "    for j in range(N):\n",
    "        s=\"%s^%s\" %(m[i],(N-j-1))\n",
    "        a=a+s+\" \"\n",
    "    print(a)"
   ]
  },
  {
   "cell_type": "code",
   "execution_count": 5,
   "metadata": {},
   "outputs": [
    {
     "name": "stdout",
     "output_type": "stream",
     "text": [
      "order of the matrix 5\n",
      "give me more elements 2\n",
      "give me more elements 3\n",
      "give me more elements 4\n",
      "give me more elements 5\n",
      "give me more elements 6\n",
      "2 3 4 5 6 \n",
      "how many column to print of Vandermonde matrix5\n",
      "16 8 4 2 1 \n",
      "81 27 9 3 1 \n",
      "256 64 16 4 1 \n",
      "625 125 25 5 1 \n",
      "1296 216 36 6 1 \n"
     ]
    }
   ],
   "source": [
    "n=int(input(\"order of the matrix \"))\n",
    "m=[]\n",
    "inputv=\"\"\n",
    "for i in range(n):\n",
    "    m.append(int(input(\"give me more elements \")))\n",
    "    inputv=inputv+str(m[i])+\" \"\n",
    "print(inputv)\n",
    "N=int(input(\"how many column to print of Vandermonde matrix\"))\n",
    "for i in range(len(m)):\n",
    "    lis=[]\n",
    "    a=\"\"\n",
    "    for j in range(N):\n",
    "        lis.append(m[i]**(N-j-1))\n",
    "        a=a+str(lis[j])+\" \"\n",
    "    print(a)"
   ]
  },
  {
   "cell_type": "markdown",
   "metadata": {},
   "source": [
    "# Write a function to compute 5/0 and use try/except to catch the exceptions."
   ]
  },
  {
   "cell_type": "code",
   "execution_count": 6,
   "metadata": {},
   "outputs": [
    {
     "name": "stdout",
     "output_type": "stream",
     "text": [
      "division by zero\n"
     ]
    }
   ],
   "source": [
    "def division(n,m):\n",
    "    try:\n",
    "        a=n/m\n",
    "        print(a)\n",
    "    except Exception as e:\n",
    "        print(e)\n",
    "division(5,0)        "
   ]
  }
 ],
 "metadata": {
  "kernelspec": {
   "display_name": "Python 3",
   "language": "python",
   "name": "python3"
  },
  "language_info": {
   "codemirror_mode": {
    "name": "ipython",
    "version": 3
   },
   "file_extension": ".py",
   "mimetype": "text/x-python",
   "name": "python",
   "nbconvert_exporter": "python",
   "pygments_lexer": "ipython3",
   "version": "3.7.6"
  }
 },
 "nbformat": 4,
 "nbformat_minor": 4
}
