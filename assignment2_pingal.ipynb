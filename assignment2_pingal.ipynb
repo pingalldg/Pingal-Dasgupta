{
 "cells": [
  {
   "cell_type": "markdown",
   "metadata": {},
   "source": [
    "# Write a Python Program to implement your own myreduce() function which works exactly like Python's built-in function reduce()\n"
   ]
  },
  {
   "cell_type": "code",
   "execution_count": 31,
   "metadata": {},
   "outputs": [
    {
     "name": "stdout",
     "output_type": "stream",
     "text": [
      "give list of numbers with comma\n",
      "12,23,34,45,56,67,78,89,90\n",
      "494.0\n"
     ]
    },
    {
     "data": {
      "text/plain": [
       "494.0"
      ]
     },
     "execution_count": 31,
     "metadata": {},
     "output_type": "execute_result"
    }
   ],
   "source": [
    "from functools import reduce\n",
    "print(\"give list of numbers with comma\")\n",
    "m=input()\n",
    "m=m.split(\",\")\n",
    "l=[]\n",
    "for i in m:\n",
    "    l.append(float(i))\n",
    "    \n",
    "    \n",
    "print(reduce(lambda x,y: x+y,l))\n",
    "\n",
    "def operation(a,b):\n",
    "    b=a+b\n",
    "    return b\n",
    "def my_reduce(operation,l):\n",
    "    for i in range(len(l)-1):\n",
    "        a=l[i]\n",
    "        b=l[i+1]\n",
    "        l[i+1]=operation(a,b)\n",
    "    return l[len(l)-1]\n",
    "\n",
    "\n",
    "my_reduce(operation,l) "
   ]
  },
  {
   "cell_type": "markdown",
   "metadata": {},
   "source": [
    "# Write a Python program to implement your own myfilter() function which works exactly like Python's built-in function filter()"
   ]
  },
  {
   "cell_type": "code",
   "execution_count": 32,
   "metadata": {},
   "outputs": [
    {
     "name": "stdout",
     "output_type": "stream",
     "text": [
      "give list of numbers with comma\n",
      "12,21,23,32,34,43,51,1,65,91,19\n",
      "[21.0, 51.0, 1.0, 91.0]\n"
     ]
    },
    {
     "data": {
      "text/plain": [
       "[21.0, 51.0, 1.0, 91.0]"
      ]
     },
     "execution_count": 32,
     "metadata": {},
     "output_type": "execute_result"
    }
   ],
   "source": [
    "print(\"give list of numbers with comma\")\n",
    "m=input()\n",
    "m=m.split(\",\")\n",
    "l=[]\n",
    "for i in m:\n",
    "    l.append(float(i))\n",
    "    \n",
    "def whether_number_ends_with_1(x):\n",
    "    if x>10:\n",
    "        if x%10==1:\n",
    "            return True\n",
    "    elif x==1:\n",
    "        return True\n",
    "    else:\n",
    "        return False\n",
    "    \n",
    "print(list(filter(whether_number_ends_with_1,l)))\n",
    "\n",
    "\n",
    "\n",
    "def myfilter(whether_number_ends_with_1,l):\n",
    "    m=[]\n",
    "    for i in l:\n",
    "        if whether_number_ends_with_1(i)==True:\n",
    "            m.append(i)\n",
    "    return m\n",
    "        \n",
    "myfilter(whether_number_ends_with_1,l)    \n",
    "    \n",
    "    "
   ]
  },
  {
   "cell_type": "markdown",
   "metadata": {},
   "source": [
    "# Implement List comprehensions to produce the following lists. Write List comprehensions to produce the following Lists\n",
    "# 1. ['A', 'C', 'A', 'D', 'G', 'I', ’L’, ‘ D’]\n"
   ]
  },
  {
   "cell_type": "code",
   "execution_count": 1,
   "metadata": {},
   "outputs": [
    {
     "data": {
      "text/plain": [
       "['A', 'C', 'A', 'D', 'G', 'I', 'L', 'D']"
      ]
     },
     "execution_count": 1,
     "metadata": {},
     "output_type": "execute_result"
    }
   ],
   "source": [
    "a=\"ACADGILD\"\n",
    "[i for i in a]"
   ]
  },
  {
   "cell_type": "markdown",
   "metadata": {},
   "source": [
    "# 2. ['x', 'xx', 'xxx', 'xxxx', 'y', 'yy', 'yyy', 'yyyy', 'z', 'zz', 'zzz', 'zzzz']"
   ]
  },
  {
   "cell_type": "code",
   "execution_count": 2,
   "metadata": {},
   "outputs": [
    {
     "data": {
      "text/plain": [
       "['x', 'xx', 'xxx', 'xxxx', 'y', 'yy', 'yyy', 'yyyy', 'z', 'zz', 'zzz', 'zzzz']"
      ]
     },
     "execution_count": 2,
     "metadata": {},
     "output_type": "execute_result"
    }
   ],
   "source": [
    "a=\"xyz\"\n",
    "[(j+1)*i  for i in a for j in range(4)]"
   ]
  },
  {
   "cell_type": "markdown",
   "metadata": {},
   "source": [
    "# 3. ['x', 'y', 'z', 'xx', 'yy', 'zz', 'xxx', 'yyy', 'zzz', 'xxxx', 'yyyy', 'zzzz']"
   ]
  },
  {
   "cell_type": "code",
   "execution_count": 3,
   "metadata": {},
   "outputs": [
    {
     "data": {
      "text/plain": [
       "['x', 'y', 'z', 'xx', 'yy', 'zz', 'xxx', 'yyy', 'zzz', 'xxxx', 'yyyy', 'zzzz']"
      ]
     },
     "execution_count": 3,
     "metadata": {},
     "output_type": "execute_result"
    }
   ],
   "source": [
    "a=\"xyz\"\n",
    "[(j+1)*i   for j in range(4) for i in a]"
   ]
  },
  {
   "cell_type": "markdown",
   "metadata": {},
   "source": [
    "# 4. [[2], [3], [4], [3], [4], [5], [4], [5], [6]]"
   ]
  },
  {
   "cell_type": "code",
   "execution_count": 4,
   "metadata": {},
   "outputs": [
    {
     "data": {
      "text/plain": [
       "[[2], [3], [4], [3], [4], [5], [4], [5], [6]]"
      ]
     },
     "execution_count": 4,
     "metadata": {},
     "output_type": "execute_result"
    }
   ],
   "source": [
    "[[j+i] for j in range(2,5,1)  for i in range(0,3,1)]"
   ]
  },
  {
   "cell_type": "markdown",
   "metadata": {},
   "source": [
    "# 5. [[2, 3, 4, 5], [3, 4, 5, 6], [4, 5, 6, 7], [5, 6, 7, 8]]"
   ]
  },
  {
   "cell_type": "code",
   "execution_count": 5,
   "metadata": {},
   "outputs": [
    {
     "data": {
      "text/plain": [
       "[[2, 3, 4, 5], [3, 4, 5, 6], [4, 5, 6, 7], [5, 6, 7, 8]]"
      ]
     },
     "execution_count": 5,
     "metadata": {},
     "output_type": "execute_result"
    }
   ],
   "source": [
    "[[j+i for j in range(2,6,1)] for i in range(0,4)]"
   ]
  },
  {
   "cell_type": "markdown",
   "metadata": {},
   "source": [
    "# 6. [(1, 1), (2, 1), (3, 1), (1, 2), (2, 2), (3, 2), (1, 3), (2, 3), (3, 3)]"
   ]
  },
  {
   "cell_type": "code",
   "execution_count": 6,
   "metadata": {},
   "outputs": [
    {
     "data": {
      "text/plain": [
       "[(1, 1), (2, 1), (3, 1), (1, 2), (2, 2), (3, 2), (1, 3), (2, 3), (3, 3)]"
      ]
     },
     "execution_count": 6,
     "metadata": {},
     "output_type": "execute_result"
    }
   ],
   "source": [
    "[(i,j) for j in range(1,4) for i in range(1,4)]"
   ]
  },
  {
   "cell_type": "markdown",
   "metadata": {},
   "source": [
    "# Implement a function longestWord() that takes a list of words and returns the longest one."
   ]
  },
  {
   "cell_type": "code",
   "execution_count": 7,
   "metadata": {},
   "outputs": [
    {
     "name": "stdout",
     "output_type": "stream",
     "text": [
      "give a list of names with comma\n",
      "hello,sir,we,are,enjoying,lockdown,python,course,.\n",
      "enjoying\n",
      "lockdown\n"
     ]
    }
   ],
   "source": [
    "print(\"give a list of names with comma\")\n",
    "m=input()\n",
    "l=m.split(\",\")\n",
    "ln=[len(i) for i in l]\n",
    "ln.sort(reverse=True)   \n",
    "for i in l:\n",
    "    if len(i)==ln[0]:\n",
    "        print(i)  "
   ]
  },
  {
   "cell_type": "markdown",
   "metadata": {},
   "source": [
    "# Write a Python Program(with class concepts) to find the area of the triangle using the below formula.\n",
    "# area = (s*(s-a)*(s-b)*(s-c)) ^0.5\n",
    "# Function to take the length of the sides of triangle from user should be defined in the parent class and function to calculate the area should be defined in subclass."
   ]
  },
  {
   "cell_type": "code",
   "execution_count": 8,
   "metadata": {},
   "outputs": [
    {
     "name": "stdout",
     "output_type": "stream",
     "text": [
      "give three sides of a triangle (after each press enter)\n",
      "3\n",
      "4\n",
      "5\n"
     ]
    },
    {
     "data": {
      "text/plain": [
       "6.0"
      ]
     },
     "execution_count": 8,
     "metadata": {},
     "output_type": "execute_result"
    }
   ],
   "source": [
    "def area(a,b,c):   \n",
    "    s=(a+b+c)/2.\n",
    "    return (s*(s-a)*(s-b)*(s-c))**0.50\n",
    "print(\"give three sides of a triangle (after each press enter)\")\n",
    "a,b,c = float(input()),float(input()),float(input())\n",
    "area(a,b,c)"
   ]
  },
  {
   "cell_type": "markdown",
   "metadata": {},
   "source": [
    "## Write a function filter_long_words() that takes a list of words and an integer n and returns the list of words that are longer than n.\n"
   ]
  },
  {
   "cell_type": "code",
   "execution_count": 9,
   "metadata": {},
   "outputs": [
    {
     "name": "stdout",
     "output_type": "stream",
     "text": [
      "give a list of names with comma\n",
      "hello,sir,we,are,enjoying,lockdown,python,course,.\n",
      "what is the value of n?\n",
      "4\n"
     ]
    },
    {
     "data": {
      "text/plain": [
       "['hello', 'enjoying', 'lockdown', 'python', 'course']"
      ]
     },
     "execution_count": 9,
     "metadata": {},
     "output_type": "execute_result"
    }
   ],
   "source": [
    "def filter_long_words():\n",
    "    print(\"give a list of names with comma\")\n",
    "    m=input()\n",
    "    l=m.split(\",\")\n",
    "    print(\"what is the value of n?\")\n",
    "    n=int(input())\n",
    "    m=[]\n",
    "    for i in l:\n",
    "        if len(i) > n:\n",
    "            m.append(i)\n",
    "    return m\n",
    "filter_long_words()"
   ]
  },
  {
   "cell_type": "markdown",
   "metadata": {},
   "source": [
    "# Write a Python program using function concept that maps list of words into a list of integers representing the lengths of the corresponding words​."
   ]
  },
  {
   "cell_type": "code",
   "execution_count": 10,
   "metadata": {},
   "outputs": [
    {
     "name": "stdout",
     "output_type": "stream",
     "text": [
      "give a list of names with comma\n",
      "hello,sir,we,are,enjoying,lockdown,python,course,.\n"
     ]
    },
    {
     "data": {
      "text/plain": [
       "[5, 3, 2, 3, 8, 8, 6, 6, 1]"
      ]
     },
     "execution_count": 10,
     "metadata": {},
     "output_type": "execute_result"
    }
   ],
   "source": [
    "\n",
    "    def length(l):\n",
    "        m=[]\n",
    "        for i in l:\n",
    "            m.append(len(i))\n",
    "        return m\n",
    "    print(\"give a list of names with comma\")\n",
    "    m=input()\n",
    "    l=m.split(\",\")\n",
    "    length(l)\n",
    "\n"
   ]
  },
  {
   "cell_type": "code",
   "execution_count": 11,
   "metadata": {},
   "outputs": [
    {
     "name": "stdout",
     "output_type": "stream",
     "text": [
      "hello,sir,we,are,enjoying,lockdown,python,course,.\n"
     ]
    },
    {
     "data": {
      "text/plain": [
       "[5, 3, 2, 3, 8, 8, 6, 6, 1]"
      ]
     },
     "execution_count": 11,
     "metadata": {},
     "output_type": "execute_result"
    }
   ],
   "source": [
    "    m=input()\n",
    "    l=m.split(\",\")\n",
    "    list(map(lambda str:len(str),l))"
   ]
  },
  {
   "cell_type": "markdown",
   "metadata": {},
   "source": [
    "# Write a Python function which takes a character (i.e. a string of length 1) and returns True if it is a vowel, False otherwise.\n"
   ]
  },
  {
   "cell_type": "code",
   "execution_count": 12,
   "metadata": {},
   "outputs": [
    {
     "name": "stdout",
     "output_type": "stream",
     "text": [
      "give a character\n",
      "hey, give a character for god's sake!\n",
      "ami\n",
      "hey, give a character for god's sake!\n",
      "k\n"
     ]
    },
    {
     "data": {
      "text/plain": [
       "False"
      ]
     },
     "execution_count": 12,
     "metadata": {},
     "output_type": "execute_result"
    }
   ],
   "source": [
    "    def isvowel():\n",
    "        print(\"give a character\")\n",
    "        a=\"\"\n",
    "        while len(a)!=1:\n",
    "            print(\"hey, give a character for god's sake!\")\n",
    "            a=str(input())\n",
    "        l=[\"a\",\"e\",\"i\",\"o\",\"u\"]\n",
    "        Ans=False\n",
    "        for i in l:\n",
    "            if a==i:\n",
    "                Ans=True\n",
    "                break\n",
    "        return Ans\n",
    "    \n",
    "\n",
    "    isvowel() \n",
    "\n",
    "\n",
    "\n",
    "            "
   ]
  }
 ],
 "metadata": {
  "kernelspec": {
   "display_name": "Python 3",
   "language": "python",
   "name": "python3"
  },
  "language_info": {
   "codemirror_mode": {
    "name": "ipython",
    "version": 3
   },
   "file_extension": ".py",
   "mimetype": "text/x-python",
   "name": "python",
   "nbconvert_exporter": "python",
   "pygments_lexer": "ipython3",
   "version": "3.7.6"
  }
 },
 "nbformat": 4,
 "nbformat_minor": 4
}
